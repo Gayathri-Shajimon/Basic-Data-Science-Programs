{
  "cells": [
    {
      "cell_type": "markdown",
      "metadata": {
        "id": "KJuSGG5K3wej"
      },
      "source": [
        "---\n",
        "# Welcome to CE880\n",
        "### This is your week-10 : Problem notebook\n",
        "\n",
        "For this problem set, we'll be using the Jupyter notebook and please upload this notebook to [Google Colab](https://colab.research.google.com/). \n",
        "\n",
        "Paris Housing is a set of data created from imaginary data of house prices in an urban environment. \n",
        "https://github.com/sagihaider/CE880_2021/blob/main/Data/ParisHousingClass.csv \n",
        "\n",
        "All attributes are numeric variables and they are listed bellow:\n",
        "* squareMeters\n",
        "* numberOfRooms\n",
        "* hasYard\n",
        "* hasPool\n",
        "* floors - number of floors\n",
        "* cityCode - zip code\n",
        "* cityPartRange - the higher the range, the more exclusive the neighbourhood is\n",
        "* numPrevOwners - number of prevoious owners\n",
        "* made - year\n",
        "* isNewBuilt\n",
        "* hasStormProtector\n",
        "* basement - basement square meters\n",
        "* attic - attic square meteres\n",
        "* garage - garage size\n",
        "* hasStorageRoom\n",
        "* hasGuestRoom - number of guest rooms\n",
        "* price - price of a house\n",
        "* category - Luxury or Basic"
      ]
    },
    {
      "cell_type": "code",
      "execution_count": 1,
      "metadata": {
        "colab": {
          "base_uri": "https://localhost:8080/"
        },
        "id": "ojajlxUt3wem",
        "outputId": "d5efe1f2-b6df-421a-ca9d-ee2d55692f24"
      },
      "outputs": [
        {
          "output_type": "stream",
          "name": "stdout",
          "text": [
            "              numberOfRooms  hasYard  hasPool  floors  cityCode  \\\n",
            "squareMeters                                                      \n",
            "75523                     3        0        1      63      9373   \n",
            "80771                    39        1        1      98     39381   \n",
            "55712                    58        0        1      19     34457   \n",
            "32316                    47        0        0       6     27939   \n",
            "70429                    19        1        1      90     38045   \n",
            "\n",
            "              cityPartRange  numPrevOwners  made  isNewBuilt  \\\n",
            "squareMeters                                                   \n",
            "75523                     3              8  2005           0   \n",
            "80771                     8              6  2015           1   \n",
            "55712                     6              8  2021           0   \n",
            "32316                    10              4  2012           0   \n",
            "70429                     3              7  1990           1   \n",
            "\n",
            "              hasStormProtector  basement  attic  garage  hasStorageRoom  \\\n",
            "squareMeters                                                               \n",
            "75523                         1      4313   9005     956               0   \n",
            "80771                         0      3653   2436     128               1   \n",
            "55712                         0      2937   8852     135               1   \n",
            "32316                         1       659   7141     359               0   \n",
            "70429                         0      8435   2429     292               1   \n",
            "\n",
            "              hasGuestRoom      price category  \n",
            "squareMeters                                    \n",
            "75523                    7  7559081.5    Basic  \n",
            "80771                    2  8085989.5   Luxury  \n",
            "55712                    9  5574642.1    Basic  \n",
            "32316                    3  3232561.2    Basic  \n",
            "70429                    4  7055052.0   Luxury  \n"
          ]
        }
      ],
      "source": [
        "import numpy as np \n",
        "import pandas as pd \n",
        "url = 'https://raw.githubusercontent.com/sagihaider/CE880_2021/main/Data/ParisHousingClass.csv'\n",
        "trainData = pd.read_csv(url,index_col=0)\n",
        "print(trainData.head())"
      ]
    },
    {
      "cell_type": "code",
      "execution_count": 4,
      "metadata": {
        "colab": {
          "base_uri": "https://localhost:8080/"
        },
        "id": "KInL8unE3wen",
        "outputId": "cd856be2-886b-4e4d-97c8-7d7c31783dce"
      },
      "outputs": [
        {
          "output_type": "stream",
          "name": "stdout",
          "text": [
            "category ['Basic' 'Luxury']\n"
          ]
        }
      ],
      "source": [
        "from sklearn.preprocessing import LabelEncoder\n",
        "\n",
        "def label_encoded(feat):\n",
        "    le=LabelEncoder()\n",
        "    le.fit(feat)\n",
        "    print(feat.name,le.classes_)\n",
        "    return le.transform(feat)\n",
        "trainData['category']=label_encoded(trainData['category'])"
      ]
    },
    {
      "cell_type": "code",
      "execution_count": 5,
      "metadata": {
        "id": "o_2M1bx53weo"
      },
      "outputs": [],
      "source": [
        "from sklearn.model_selection import train_test_split,GridSearchCV\n",
        "\n",
        "y=trainData['category']\n",
        "x=trainData.drop('category',axis=1)\n",
        "xtrain,xtest,ytrain,ytest=train_test_split(x,y,test_size=0.2,random_state=42)"
      ]
    },
    {
      "cell_type": "markdown",
      "metadata": {
        "id": "5SXhtS7k3wep"
      },
      "source": [
        "---\n",
        "## Question 1: \n",
        "\n",
        "#### Classification\n",
        "Use the dataset, which I have spilted into training and test sets (xtrain, xtest, ytrain, ytest), please train the machine learning model to get the test accuracy of 100%. You are free to use any classication model such as Decision Tree, Random Forest, KNN, SVM..etc. \n",
        "\n",
        "Hint: Please use grid search to find a best model using different parameters. "
      ]
    },
    {
      "cell_type": "code",
      "execution_count": 14,
      "metadata": {
        "deletable": false,
        "nbgrader": {
          "cell_type": "code",
          "checksum": "7d59a986a353bb89559cb1ff0cf34516",
          "grade": false,
          "grade_id": "my_model_ans",
          "locked": false,
          "schema_version": 3,
          "solution": true,
          "task": false
        },
        "id": "-d5ao2o83wep"
      },
      "outputs": [],
      "source": [
        "from sklearn.model_selection import GridSearchCV\n",
        "from sklearn.ensemble import GradientBoostingRegressor\n",
        "import xgboost as xgb\n",
        "from sklearn.metrics import confusion_matrix\n",
        "from sklearn.metrics import classification_report\n",
        "from sklearn.metrics import accuracy_score as accuracy\n",
        "def my_model(xtrain,xtest,ytrain,ytest):\n",
        "    \"\"\"Write a function to train a machine learning model to get the test accuracy of 100%. \n",
        "    You are free to use any classication model such as Decision Tree, \n",
        "    Random Forest, KNN, SVM..etc. \"\"\"\n",
        "    # YOUR CODE HERE\n",
        "    xgb_clf = xgb.XGBClassifier()\n",
        "    parameters = {'min_child_weight': [1, 5, 10],\n",
        "        'gamma': [0.5, 1, 1.5, 2, 5],\n",
        "        'subsample': [0.6, 0.8, 1.0],\n",
        "        'colsample_bytree': [0.6, 0.8, 1.0],\n",
        "        'max_depth': [3, 4, 5]\n",
        "                 }\n",
        "    grid_GBR = GridSearchCV(estimator=xgb_clf, param_grid = parameters, cv = 2, n_jobs=-1)\n",
        "    grid_GBR.fit(xtrain, ytrain)\n",
        "    print(\" Results from Grid Search \" )\n",
        "    print(\"\\n The best estimator across ALL searched params:\\n\",grid_GBR.best_estimator_)\n",
        "    print(\"\\n The best score across ALL searched params:\\n\",grid_GBR.best_score_)\n",
        "    print(\"\\n The best parameters across ALL searched params:\\n\",grid_GBR.best_params_)\n",
        "    grid_values = grid_GBR.best_params_\n",
        "    colsample_bytree_values = grid_values['colsample_bytree']\n",
        "    gamma_values = grid_values['gamma']\n",
        "    max_depth_values = grid_values['max_depth']\n",
        "    min_child_weight_values = grid_values['min_child_weight']\n",
        "    subsample_values = grid_values['subsample']\n",
        "    xgb_clf = xgb.XGBClassifier(colsample_bytree = colsample_bytree_values, gamma = gamma_values, max_depth = max_depth_values, min_child_weight = min_child_weight_values, subsample = min_child_weight_values)\n",
        "    xgb_clf = xgb_clf.fit(xtrain, ytrain)\n",
        "    y_predict_xgb = xgb_clf.predict(xtest)\n",
        "    # Print results: \n",
        "    print(confusion_matrix(ytest, y_predict_xgb))\n",
        "    print(classification_report(ytest, y_predict_xgb))\n",
        "    return accuracy(y_predict_xgb,ytest)*100\n",
        "    raise NotImplementedError()"
      ]
    },
    {
      "cell_type": "code",
      "execution_count": 15,
      "metadata": {
        "deletable": false,
        "editable": false,
        "nbgrader": {
          "cell_type": "code",
          "checksum": "b15a8a354453f7e99cb9fa5a6cb0b977",
          "grade": true,
          "grade_id": "my_model_test",
          "locked": true,
          "points": 9,
          "schema_version": 3,
          "solution": false,
          "task": false
        },
        "id": "Nf0rNGS03wer",
        "colab": {
          "base_uri": "https://localhost:8080/"
        },
        "outputId": "28f412f7-36d5-4a16-86b8-ed84e6dfa013"
      },
      "outputs": [
        {
          "output_type": "stream",
          "name": "stdout",
          "text": [
            " Results from Grid Search \n",
            "\n",
            " The best estimator across ALL searched params:\n",
            " XGBClassifier(colsample_bytree=0.6, gamma=0.5, subsample=0.6)\n",
            "\n",
            " The best score across ALL searched params:\n",
            " 1.0\n",
            "\n",
            " The best parameters across ALL searched params:\n",
            " {'colsample_bytree': 0.6, 'gamma': 0.5, 'max_depth': 3, 'min_child_weight': 1, 'subsample': 0.6}\n",
            "[[1744    0]\n",
            " [   0  256]]\n",
            "              precision    recall  f1-score   support\n",
            "\n",
            "           0       1.00      1.00      1.00      1744\n",
            "           1       1.00      1.00      1.00       256\n",
            "\n",
            "    accuracy                           1.00      2000\n",
            "   macro avg       1.00      1.00      1.00      2000\n",
            "weighted avg       1.00      1.00      1.00      2000\n",
            "\n"
          ]
        }
      ],
      "source": [
        "# Check you solution by running this cell\n",
        "import math\n",
        "assert math.isclose(my_model(xtrain,xtest,ytrain,ytest), 100.0, rel_tol = 0.05)"
      ]
    }
  ],
  "metadata": {
    "kernelspec": {
      "display_name": "Python 3",
      "language": "python",
      "name": "python3"
    },
    "language_info": {
      "codemirror_mode": {
        "name": "ipython",
        "version": 3
      },
      "file_extension": ".py",
      "mimetype": "text/x-python",
      "name": "python",
      "nbconvert_exporter": "python",
      "pygments_lexer": "ipython3",
      "version": "3.7.10"
    },
    "colab": {
      "provenance": []
    }
  },
  "nbformat": 4,
  "nbformat_minor": 0
}